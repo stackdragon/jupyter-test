{
 "cells": [
  {
   "cell_type": "markdown",
   "metadata": {},
   "source": [
    "# Introduction to Python Functions\n",
    "\n",
    "-----"
   ]
  },
  {
   "cell_type": "markdown",
   "metadata": {},
   "source": [
    "In this notebook, we introduce a modularization concept known as functions. Functions promote code reuse by encapsulating a particular set of program statements into a single entity. This approach can be very beneficial since once a function is written and tested, it can confidently be reused many times, simplifying the development of new programs. When you have completed this notebook, you will be able to create and apply user-defined functions.\n",
    "\n",
    "-----"
   ]
  },
  {
   "cell_type": "markdown",
   "metadata": {},
   "source": [
    "## Functions\n",
    "\n",
    "The Python language provides convenience functions and supports the creation and application of user-defined functions, which can simplify program development by promoting code reuse. In this notebook, we introduce a number of built-in functions such as the `print` function. For now, we use this function to simply display messages and unformatted variables. However, this function in general is very useful and can easily display formatted output. Over future notebooks, we will introduce additional functionality for this (and other similar functions) that will include instructions on how to display properly formatted data.\n",
    "\n",
    "### Python Functions\n",
    "\n",
    "The Python programming language provides a number of [built-in functions][bpf] that you should learn to use properly. These built-in functions are always available. The following table presents some of the more useful built-in functions for use in mathematical expressions.\n",
    "\n",
    "| Built-in Function | Description                              |\n",
    "| ----------------- | ---------------------------------------- |\n",
    "| `abs(x)`          | Returns the absolute value of `x`        |\n",
    "| `divmod(x, y)`    | Returns both the quotient and remainder of `x/y` when using integer division |\n",
    "| `float(x)`        | Returns `x` as a floating-point value    |\n",
    "| `help(x)`         | Prints a help message using the docstring for `x` |\n",
    "| `id()`            | Prints the numerical identifier associated with a name | \n",
    "| `input()`         | Displays a message prompting the user to enter text data |\n",
    "| `int(x)`          | Returns `x` as an integer value           |\n",
    "| `print()`         | Displays a message to the screen |\n",
    "| `pow(x, y)`       | Returns the exponential function `x**y`  |\n",
    "| `round(x, n)`     | Returns `x` as a floating-point value rounded to `n` digits (by default `n=0`) |\n",
    "| `str(x)`          | Returns `x` as a string of characters |\n",
    "| `type()`          | Prints the data type for a given name |\n",
    "\n",
    "In the following Code cells, we demonstrate how to use several of these functions.\n",
    "\n",
    "-----\n",
    "[bpf]: https://docs.python.org/3/library/functions.html#built-in-functions"
   ]
  },
  {
   "cell_type": "code",
   "execution_count": 1,
   "metadata": {},
   "outputs": [
    {
     "name": "stdout",
     "output_type": "stream",
     "text": [
      "The value =  -3.2\n",
      "The absolute value =  3.2\n"
     ]
    }
   ],
   "source": [
    "# Demonstrate several built-in functions\n",
    "val = -3.2\n",
    "\n",
    "print('The value = ', val)\n",
    "print('The absolute value = ', abs(val))"
   ]
  },
  {
   "cell_type": "code",
   "execution_count": 2,
   "metadata": {},
   "outputs": [
    {
     "data": {
      "text/plain": [
       "float"
      ]
     },
     "execution_count": 2,
     "metadata": {},
     "output_type": "execute_result"
    }
   ],
   "source": [
    "type(val)"
   ]
  },
  {
   "cell_type": "code",
   "execution_count": 3,
   "metadata": {},
   "outputs": [
    {
     "data": {
      "text/plain": [
       "4571385360"
      ]
     },
     "execution_count": 3,
     "metadata": {},
     "output_type": "execute_result"
    }
   ],
   "source": [
    "# This is the address of the vairable val\n",
    "id(val)"
   ]
  },
  {
   "cell_type": "code",
   "execution_count": 4,
   "metadata": {},
   "outputs": [
    {
     "data": {
      "text/plain": [
       "4530873472"
      ]
     },
     "execution_count": 4,
     "metadata": {},
     "output_type": "execute_result"
    }
   ],
   "source": [
    "# Changing val means we store a different value, which uses a different location\n",
    "val = 1\n",
    "id(val)"
   ]
  },
  {
   "cell_type": "code",
   "execution_count": 5,
   "metadata": {},
   "outputs": [
    {
     "name": "stdout",
     "output_type": "stream",
     "text": [
      "Enter an integer value: 23\n",
      "<class 'str'>\n",
      "That value squared =  529\n"
     ]
    }
   ],
   "source": [
    "# Get input from the user and process it\n",
    "val = input('Enter an integer value: ')\n",
    "\n",
    "# The type is a string\n",
    "print(type(val))\n",
    "\n",
    "# We need to convert the string returned by `input` to an integer to square it\n",
    "print('That value squared = ', pow(int(val), 2))"
   ]
  },
  {
   "cell_type": "markdown",
   "metadata": {},
   "source": [
    "-----\n",
    "\n",
    "### Everything Is an Object\n",
    "\n",
    "In Python3, everything is an object. This means data, functions, and data structures are all objects. If you ask, _'What is an object?'_ the simple answer is an object can be assigned to a variable or passed into a function as an argument. Thus, you can assign functions to a variable or pass a function as an argument to another function. In this course we won't dive into object-oriented programming concepts, but this approach makes Python a very powerful programming language that can be used to build amazing applications. \n",
    "\n",
    "-----"
   ]
  },
  {
   "cell_type": "markdown",
   "metadata": {},
   "source": [
    "<font color='red' size = '5'> Student Exercise </font>\n",
    "\n",
    "In the empty **Code** cell below, write Python code to have a user enter two floating point values. Next, raise the first value to the absolute value of the second value. Finally, display the type and id of both input variables.\n",
    "\n",
    "-----"
   ]
  },
  {
   "cell_type": "code",
   "execution_count": null,
   "metadata": {},
   "outputs": [],
   "source": []
  },
  {
   "cell_type": "markdown",
   "metadata": {},
   "source": [
    "-----\n",
    "\n",
    "## User Functions\n",
    "\n",
    "Python also provides a user with the ability to create new functions. A Python function is defined by using the `def` keyword, followed by the function name. After the function name is a set of matching parentheses that enclose any arguments to the function. A colon character follows the closing parenthesis, which signifies the start of the code block that provides the function implementation, which is known as the function body. The function body is indented four spaces to set it apart from the rest of the code in your program.\n",
    "\n",
    "As a simple example, the following function takes no arguments and simply prints a standard message:\n",
    "\n",
    "```python\n",
    "def hello():\n",
    "    print('Hello World!')\n",
    "```\n",
    "\n",
    "This function is called in a Python program by simply using its name followed by the parentheses, `hello()`, which will print out `Hello World!` to the display."
   ]
  },
  {
   "cell_type": "code",
   "execution_count": 6,
   "metadata": {},
   "outputs": [
    {
     "name": "stdout",
     "output_type": "stream",
     "text": [
      "Hello World!\n"
     ]
    }
   ],
   "source": [
    "# Demonstrate the print function\n",
    "\n",
    "def hello():\n",
    "    print('Hello World!')\n",
    "    \n",
    "hello()"
   ]
  },
  {
   "cell_type": "markdown",
   "metadata": {},
   "source": [
    "-----\n",
    "\n",
    "<font color='red' size = '5'> Student Exercise </font>\n",
    "\n",
    "In the empty **Code** cell below, create a simple function that takes no arguments and prints the message **Success!**. After the function definition, call this function (as we did above with the `hello` function) to ensure your code works correctly.\n",
    "\n",
    "-----"
   ]
  },
  {
   "cell_type": "code",
   "execution_count": null,
   "metadata": {},
   "outputs": [],
   "source": []
  },
  {
   "cell_type": "markdown",
   "metadata": {},
   "source": [
    "-----\n",
    "\n",
    "## Doc Strings\n",
    "\n",
    "A standard practice is to employ a docstring, or documentation string, comment immediately after the function definition line to provide documentation for the function. A docstring comment is enclosed in triple-quotes, for example:\n",
    "\n",
    "```python\n",
    "\"\"\"Here is our demonstration docstring comment.\n",
    "The text can span multiple lines, until\n",
    "the closing set of quotes is employed.\n",
    "\"\"\"\n",
    "```\n",
    "\n",
    "The Python interpreter will by default use this docstring as the official function documentation, which typically is accessed by using the built-in `help()` function. This is demonstrated in the following two Code cells, where we define and call this function, and subsequently access the documentation.\n",
    "\n",
    "-----"
   ]
  },
  {
   "cell_type": "code",
   "execution_count": 7,
   "metadata": {},
   "outputs": [
    {
     "name": "stdout",
     "output_type": "stream",
     "text": [
      "Hello World!\n"
     ]
    }
   ],
   "source": [
    "def hello():\n",
    "    \"\"\"Display a welcome message to the user.\"\"\"\n",
    "    print(\"Hello World!\")\n",
    "\n",
    "hello()"
   ]
  },
  {
   "cell_type": "code",
   "execution_count": 8,
   "metadata": {},
   "outputs": [
    {
     "name": "stdout",
     "output_type": "stream",
     "text": [
      "Help on function hello in module __main__:\n",
      "\n",
      "hello()\n",
      "    Display a welcome message to the user.\n",
      "\n"
     ]
    }
   ],
   "source": [
    "help(hello)"
   ]
  },
  {
   "cell_type": "markdown",
   "metadata": {},
   "source": [
    "-----\n",
    "\n",
    "<font color='red' size = '5'> Student Exercise </font>\n",
    "\n",
    "In the empty **Code** cell below, copy your simple function defined above, and add an appropriate documentation string by using a triple quoted string. After the function definition, use the `help` function to view your documentation string. \n",
    "\n",
    "-----"
   ]
  },
  {
   "cell_type": "code",
   "execution_count": null,
   "metadata": {},
   "outputs": [],
   "source": []
  },
  {
   "cell_type": "markdown",
   "metadata": {},
   "source": [
    "-----\n",
    "\n",
    "## Function Arguments\n",
    "\n",
    "A function can accept zero or more arguments by simply listing the argument names between the parentheses. These argument names are the names you use to access the values contained in these arguments within the function body. For example, we can modify the original `hello` function to take a `name` argument that is used when printing out a welcome message:\n",
    "\n",
    "```python\n",
    "def hello(name):\n",
    "    \"\"\"Display a welcome message to the user.\"\"\"\n",
    "    print(\"Hello \", name)\n",
    "```\n",
    "\n",
    "When called with an argument `Alexander`, this function will print `Hello Alexander`. "
   ]
  },
  {
   "cell_type": "code",
   "execution_count": 9,
   "metadata": {},
   "outputs": [
    {
     "name": "stdout",
     "output_type": "stream",
     "text": [
      "Hello Alexander\n"
     ]
    }
   ],
   "source": [
    "# Create our first function that takes an argument\n",
    "\n",
    "def hello(name):\n",
    "    \"\"\"Display a welcome message to the user.\"\"\"\n",
    "    print(\"Hello\", name)\n",
    "    \n",
    "hello('Alexander')"
   ]
  },
  {
   "cell_type": "markdown",
   "metadata": {},
   "source": [
    "-----\n",
    "\n",
    "<font color='red' size = '5'> Student Exercise </font>\n",
    "\n",
    "In the empty **Code** cell below, create a simple function that takes one argument and prints a unique message, along with the text that was passed in as an argument. After the function definition, call this function to ensure your code works correctly.\n",
    "\n",
    "-----"
   ]
  },
  {
   "cell_type": "code",
   "execution_count": null,
   "metadata": {},
   "outputs": [],
   "source": []
  },
  {
   "cell_type": "markdown",
   "metadata": {},
   "source": [
    "-----\n",
    "\n",
    "### Multiple Arguments\n",
    "\n",
    "Functions can take multiple arguments, in which case the different arguments are simply separated by commas between the parentheses. For example, the following code snippet creates a function that takes two arguments. \n",
    "\n",
    "```python\n",
    "def hello_message(name, text):\n",
    "    \"\"\"\n",
    "    Display a welcome message to the named user.\n",
    "    \n",
    "    \"\"\"\n",
    "    print(\"Hello \", name, \" \", text)\n",
    "```\n",
    "\n",
    "If this function is called as  `hello_message('Alex', 'Welcome to the class.')`,  the following output is displayed:\n",
    "\n",
    "```python\n",
    "Hello Alex. Welcome to class.\n",
    "```\n",
    "\n",
    "We demonstrate this new function in the following Code cell. Note that the formatting of the displayed text is not ideal. We will learn how to fix that in a later lesson on the string data type (specifically, when we introduce _f-strings_).\n",
    "\n",
    "-----"
   ]
  },
  {
   "cell_type": "code",
   "execution_count": 10,
   "metadata": {},
   "outputs": [],
   "source": [
    "def hello_message(name, text):\n",
    "    \"\"\"\n",
    "    Display a welcome message to the named user.\n",
    "    \n",
    "    \"\"\"\n",
    "\n",
    "    print(\"Hello \", name, \". \", text)"
   ]
  },
  {
   "cell_type": "code",
   "execution_count": 11,
   "metadata": {},
   "outputs": [
    {
     "name": "stdout",
     "output_type": "stream",
     "text": [
      "Hello  Alex .  Welcome to the class.\n",
      "Hello  Jane .  Welcome to the class.\n"
     ]
    }
   ],
   "source": [
    "hello_message('Alex', 'Welcome to the class.')\n",
    "hello_message('Jane', 'Welcome to the class.')"
   ]
  },
  {
   "cell_type": "markdown",
   "metadata": {},
   "source": [
    "-----\n",
    "\n",
    "<font color='red' size = '5'> Student Exercise </font>\n",
    "\n",
    "In the empty **Code** cell below, write a function that takes three arguments: two names and one text message. This function should print a welcome message that names both students (the names are in the first two arguments), along with the user supplied text message (i.e., the third argument), and prints a unique message, along with the text that was passed in as an argument. After the function definition, call this function to ensure your code works correctly.\n",
    "\n",
    "-----"
   ]
  },
  {
   "cell_type": "code",
   "execution_count": null,
   "metadata": {},
   "outputs": [],
   "source": []
  },
  {
   "cell_type": "markdown",
   "metadata": {},
   "source": [
    "-----\n",
    "\n",
    "### Default Arguments\n",
    "\n",
    "In some cases, a function accepts one or more arguments that often have _default_ values. Python supports default arguments that enable a Python programmer to specify a default value for an argument, which can be overridden if the user supplies a specific value. A default argument is specified by simply including an equal sign and the default value after a specific argument, like `text = 'Welcome to class.'`. With this default argument for the `hello_message` function, we could leave off the second argument if desired.\n",
    "\n",
    "Default arguments are often used in functions that are part of large packages to simplify their use. New users can quickly call the functions, while advanced users can achieve more control of the function by specifying additional arguments explicitly. We demonstrate the use of default arguments in the following Code cell.\n",
    "\n",
    "----"
   ]
  },
  {
   "cell_type": "code",
   "execution_count": 12,
   "metadata": {},
   "outputs": [
    {
     "name": "stdout",
     "output_type": "stream",
     "text": [
      "Hello  Sarah .  Welcome to class.\n"
     ]
    }
   ],
   "source": [
    "# Redefine the hello_message function with a default text parameter\n",
    "def hello_message(name, text='Welcome to class.'):\n",
    "    \"\"\"\n",
    "    Display a welcome message to the named user.\n",
    "    \n",
    "    \"\"\"\n",
    "\n",
    "    print(\"Hello \", name, \". \", text) \n",
    "\n",
    "# Call the function without the text parameter\n",
    "hello_message('Sarah')"
   ]
  },
  {
   "cell_type": "markdown",
   "metadata": {},
   "source": [
    "----\n",
    "\n",
    "### Keyword Arguments\n",
    "\n",
    "One last aspect of function arguments is that when a function is called, the argument names listed in the function definition can be explicitly specified, along with the values they should take when the function is called. This type of function call is said to be using _keyword arguments_. When using keyword arguments, the order of the arguments listed in the function call is arbitrary and does not need to explicitly match the argument order listed in the function definition. For example, we could call the `hello_message` function:\n",
    "\n",
    "```python\n",
    "hello_message(text='Welcome to class.', name = 'Jane')\n",
    "```\n",
    "\n",
    "-----"
   ]
  },
  {
   "cell_type": "markdown",
   "metadata": {},
   "source": [
    "## Returning Values\n",
    "\n",
    "Most functions that you use accept input, process the input, and return a result, for example, math function like `sin` or `cos`. In Python, we can write functions that return a result by simply using the `return` keyword, followed by the result we wish to return. A Python function can return only one value. However, if we separate multiple values with a comma (or place them all inside parentheses where the values are separated by commas), we can return multiple values. Formally, this uses a data structure called a `tuple`, which will be introduced in a subsequent lesson. \n",
    "\n",
    "These two return types are demonstrated in the following sample code:\n",
    "\n",
    "```python\n",
    "def hello2():\n",
    "   return \"Hello World!\"\n",
    "\n",
    "def hello3(name):\n",
    "    return \"Hello, \", name\n",
    "```\n",
    "\n",
    "Calling the first function in this sample code as `msg = hello2()` will assign the string `Hello World!` to the `msg` variable, while calling the second of these functions as `msg = hello3()` will assign the tuple `('Hello', name)` to the `msg` variable. Note that for the `hello3` function, the argument is not required, as written, to be a string; therefore, the return tuple will have a string as the first element and the second element will be the same type as the argument `name`.\n",
    "\n",
    "Note, when returning multiple values as a tuple, we can either enclose the values in parentheses or simply separate them with commas as shown in the example."
   ]
  },
  {
   "cell_type": "code",
   "execution_count": 13,
   "metadata": {},
   "outputs": [
    {
     "data": {
      "text/plain": [
       "('Hello ', 'Sarah', '. ', 'Welcome to class.')"
      ]
     },
     "execution_count": 13,
     "metadata": {},
     "output_type": "execute_result"
    }
   ],
   "source": [
    "# Redefine the hello_message function to return the string\n",
    "def hello_message(name, text='Welcome to class.'):\n",
    "    \"\"\"\n",
    "    Return a welcome message to the named user.\n",
    "    \n",
    "    \"\"\"\n",
    "\n",
    "    return \"Hello \", name, \". \", text\n",
    "\n",
    "# Call the function without the text parameter\n",
    "hello_message('Sarah')"
   ]
  },
  {
   "cell_type": "markdown",
   "metadata": {},
   "source": [
    "-----\n",
    "\n",
    "<font color='red' size = '5'> Student Exercise </font>\n",
    "\n",
    "In the empty **Code** cell below, create a simple function that takes a numerical argument and returns the argument multiplied by 10. Demonstrate your function works by displaying the result of the function on the integer 10.\n",
    "\n",
    "-----"
   ]
  },
  {
   "cell_type": "code",
   "execution_count": null,
   "metadata": {},
   "outputs": [],
   "source": []
  },
  {
   "cell_type": "markdown",
   "metadata": {},
   "source": [
    "-----\n",
    "\n",
    "## Ancillary Information\n",
    "\n",
    "The following links are to additional documentation that you might find helpful in learning this material. Reading these web-accessible documents is completely optional.\n",
    "\n",
    "1. The official Python documentation for [functions][1].\n",
    "2. The book _A Byte of Python_ includes an introduction to [functions](https://python.swaroopch.com/functions.html).\n",
    "3. A discussion on  [_functions_][2] from the book, _Dive into Python_.\n",
    "4. The book [_Think Python_][3] includes a discussion on functions.\n",
    "\n",
    "\n",
    "-----\n",
    "\n",
    "[1]: https://docs.python.org/3/tutorial/controlflow.html#defining-functions\n",
    "[2]: http://www.diveintopython.net/getting_to_know_python/declaring_functions.html\n",
    "[3]: http://greenteapress.com/thinkpython2/html/index.html"
   ]
  },
  {
   "cell_type": "markdown",
   "metadata": {
    "deletable": false,
    "editable": false
   },
   "source": [
    "**&copy; 2017: Robert J. Brunner at the University of Illinois.**\n",
    "\n",
    "This notebook is released under the [Creative Commons license CC BY-NC-SA 4.0][ll]. Any reproduction, adaptation, distribution, dissemination or making available of this notebook for commercial use is not allowed unless authorized in writing by the copyright holder.\n",
    "\n",
    "[ll]: https://creativecommons.org/licenses/by-nc-sa/4.0/legalcode"
   ]
  }
 ],
 "metadata": {
  "kernelspec": {
   "display_name": "Python 3 (ipykernel)",
   "language": "python",
   "name": "python3"
  },
  "language_info": {
   "codemirror_mode": {
    "name": "ipython",
    "version": 3
   },
   "file_extension": ".py",
   "mimetype": "text/x-python",
   "name": "python",
   "nbconvert_exporter": "python",
   "pygments_lexer": "ipython3",
   "version": "3.7.10"
  }
 },
 "nbformat": 4,
 "nbformat_minor": 1
}
