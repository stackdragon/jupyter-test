{
 "cells": [
  {
   "cell_type": "markdown",
   "metadata": {},
   "source": [
    "# Test Drive the Jupyter Notebook\n",
    "\n",
    "-----"
   ]
  },
  {
   "cell_type": "markdown",
   "metadata": {},
   "source": [
    "The [Jupyter Notebook][i] is a browser-based scientific notebook and is, therefore, extremely useful for learning and doing data science tasks. While [Jupyter][1] initially supported the [Python][2] programming language via the [IPython kernel][ipyk], Jupyter now supports many  additional programming languages, including [R][3], [Julia][4], and [Haskell][5]. In addition, you can directly embed scripts, including [Bash shell][6] scripts, within a cell. This technology has gained tremendous popularity quite rapidly and is continuing to be developed as [Project Jupyter][6], which highlights the programming language agnostic view the notebook concept has embraced. In addition, the Jupyter team develops and maintains a set of [Docker images][7] to simplify the adoption of notebooks.\n",
    "\n",
    "The Jupyter team has provided a nice [introduction to working][10] in an Jupyter Notebook, including how to use the menu commands, toolbar, and keyboard shortcuts. Of these, the most important points are to use the mouse to select a cell by single-clicking, and to enter a cell for editing by double-clicking. To have the IPython kernel process a cell, you can either enter control-return, which processes and remains in the current cell, or shift-return, which processes the cell and advances to the next cell. Finally, another important keyboard trick is to place a question mark, `?`, at the end of a IPython magic or Python keyword to bring up an IPython message window that provides online details for the magic or keyword.\n",
    "\n",
    "-----\n",
    "[i]: http://nbviewer.jupyter.org\n",
    "[1]: https://jupyter.org\n",
    "[2]: http://www.python.org\n",
    "[ipyk]: http://ipython.readthedocs.io/en/stable/\n",
    "[3]: https://irkernel.github.io\n",
    "[4]: https://github.com/JuliaLang/IJulia.jl\n",
    "[5]: https://github.com/gibiansky/IHaskell\n",
    "[6]: http://ipython.readthedocs.io/en/stable/interactive/magics.html#built-in-magic-commands\n",
    "[7]: https://hub.docker.com/u/jupyter/\n",
    "[9]: http://nbviewer.ipython.org/github/ipython/ipython/blob/master/examples/IPython%20Kernel/Rich%20Output.ipynb\n",
    "[10]: http://jupyter-notebook.readthedocs.io/en/latest/examples/Notebook/Notebook%20Basics.html"
   ]
  },
  {
   "cell_type": "markdown",
   "metadata": {},
   "source": [
    "## Writing and Executing Code\n",
    "\n",
    "Of course, the reason we are using IPython Notebooks is that they allow for in place development and execution of Python code. There are a number of direct benefits you accrue by developing and executing code in an IPython Notebook:\n",
    "\n",
    "1. Run code in place with the output displayed in the notebook,  \n",
    "2. Display visualizations inline,  \n",
    "3. Run code in the background, while you edit or run code in other cells,  \n",
    "4. Clean restarts of the IPython kernel, and  \n",
    "5. Built-in support for parallelization.\n",
    "\n",
    "The simplest of these capabilities to demonstrate is developing and running code in the notebook. The code can be a single line or multiple lines. Code cells can be executed by using one of two key combinations: CONTROL-return, which executes the cell in place, or SHIFT-return, which executes the code and advances to the next cell. For example, as shown below, we have a single line of Python code that can be executed with the output directly shown."
   ]
  },
  {
   "cell_type": "code",
   "execution_count": 2,
   "metadata": {},
   "outputs": [
    {
     "name": "stdout",
     "output_type": "stream",
     "text": [
      "Hello World!\n"
     ]
    }
   ],
   "source": [
    "print(\"Hello World!\")"
   ]
  },
  {
   "cell_type": "markdown",
   "metadata": {},
   "source": [
    "-----\n",
    "\n",
    "### Python Programs\n",
    "\n",
    "A Jupyter Notebook Code cell can take a full Python program, including importing Python libraries, which are in scope for the remainder of the Notebook. For example, we can compute an integral by importing a constant and a function from the `numpy` library and an integration function from the `scipy` library:\n",
    "\n",
    "$\\int_0^{\\pi} \\sin(\\theta)\\ d\\theta = 2$ \n",
    "\n",
    "Note: At this point you are not expected to understand the Python statements being demonstrated. They are only being used for demonstration purposes and will be introduced more completely later in this course."
   ]
  },
  {
   "cell_type": "code",
   "execution_count": 3,
   "metadata": {},
   "outputs": [
    {
     "name": "stdout",
     "output_type": "stream",
     "text": [
      "The Integral = 2.0\n"
     ]
    }
   ],
   "source": [
    "import numpy as np\n",
    "from scipy.integrate import quad\n",
    "\n",
    "print(\"The Integral = %3.1f\" % quad(np.sin, -2.0 * np.pi, np.pi)[0])"
   ]
  },
  {
   "cell_type": "markdown",
   "metadata": {},
   "source": [
    "-----\n",
    "\n",
    "### Inline Figures\n",
    "\n",
    "When making data visualization, the resulting plots or images can be displayed inline. The recommended way to accomplish this is to use the `%matplotlib` line magic, which will inform the IPython kernel to display the image inline; this magic can take either the `inline` or the `notebook` value; the `inline` value will generally be preferred in this class for simplicity. Note that you may see suggestions to use the `%pylab` line magic, but this approach is no longer recommended since it pollutes the global namespace by importing several Python libraries."
   ]
  },
  {
   "cell_type": "code",
   "execution_count": 4,
   "metadata": {},
   "outputs": [
    {
     "data": {
      "image/png": "[encoded data removed]",
      "text/plain": [
       "<Figure size 432x288 with 1 Axes>"
      ]
     },
     "metadata": {
      "needs_background": "light"
     },
     "output_type": "display_data"
    }
   ],
   "source": [
    "%matplotlib inline\n",
    "\n",
    "theta = np.arange(0., np.pi, 0.01)\n",
    "y = np.sin(theta)\n",
    "\n",
    "import matplotlib.pyplot as plt\n",
    "\n",
    "plt.plot(theta, y)\n",
    "plt.xlabel(r\"$\\theta$\")\n",
    "plt.ylabel(r\"$\\sin$($\\theta$)\")\n",
    "plt.title(\"My Awesome Title\")\n",
    "plt.show()"
   ]
  },
  {
   "cell_type": "markdown",
   "metadata": {},
   "source": [
    "-----\n",
    "\n",
    "### Running Code in the Background\n",
    "\n",
    "One of the features of the Python kernel used in a Jupyter Notebook to run Python programs that novices fail to appreciate is the ability for code, by default, to run in the background. This is useful, as we will see throughout this course, both when developing, but also when executing code. For example, the following code block slowly prints out a series of numbers, by default this is the integers 0 to 19. When we execute the cell, the integers slowly print out while we are free to edit or run code in other cells."
   ]
  },
  {
   "cell_type": "code",
   "execution_count": 5,
   "metadata": {},
   "outputs": [
    {
     "name": "stdout",
     "output_type": "stream",
     "text": [
      "  0,  1,  2,  3,  4,  5,  6,  7,  8,  9, 10, 11, 12, 13, 14, 15, 16, 17, 18, 19,"
     ]
    }
   ],
   "source": [
    "# First we handle our imports.\n",
    "import sys\n",
    "from time import sleep\n",
    "\n",
    "# Parameters that we can change\n",
    "s = 20\n",
    "t = 2\n",
    "\n",
    "# Now loop, printing out a new number before sleeping\n",
    "for i in range(s):\n",
    "    sys.stdout.write(\"%3d,\" % i)\n",
    "    sys.stdout.flush()\n",
    "    sleep(t)\n",
    "    \n",
    "# The code continues to run in the background"
   ]
  },
  {
   "cell_type": "markdown",
   "metadata": {},
   "source": [
    "-----\n",
    "\n",
    "### Clean Kernel Restarts\n",
    "\n",
    "On some occasions, our code might cause the Python interpreter to crash. While this normally might be a serious concern, the Python kernel can detect this condition and initiate a clean restart. In this notebook we won't intentionally do this; however, you may experience a kernel crash when working on assignments or projects in this course.\n",
    "\n",
    "-----"
   ]
  },
  {
   "cell_type": "markdown",
   "metadata": {},
   "source": [
    "## Ancillary Information\n",
    "\n",
    "The following links are to additional documentation that you might find helpful in learning this material. Reading these web-accessible documents is completely optional.\n",
    "\n",
    "1. Project [Jupyter][1]\n",
    "2. Demonstration [Jupyter Notebook][2]\n",
    "3. Jupyter [Documentation][3]\n",
    "4. IPython [Documentation][4]\n",
    "5. A tutorial to the [Jupyter Notebook][5]\n",
    "\n",
    "-----\n",
    "[1]: https://jupyter.org/index.html\n",
    "[2]: https://try.jupyter.org\n",
    "[3]: https://jupyter-notebook.readthedocs.io/en/stable/\n",
    "[4]: http://ipython.org\n",
    "[5]: https://www.datacamp.com/community/tutorials/tutorial-jupyter-notebook"
   ]
  },
  {
   "cell_type": "markdown",
   "metadata": {
    "deletable": false,
    "editable": false
   },
   "source": [
    "**&copy; 2017: Robert J. Brunner at the University of Illinois.**\n",
    "\n",
    "This notebook is released under the [Creative Commons license CC BY-NC-SA 4.0][ll]. Any reproduction, adaptation, distribution, dissemination or making available of this notebook for commercial use is not allowed unless authorized in writing by the copyright holder.\n",
    "\n",
    "[ll]: https://creativecommons.org/licenses/by-nc-sa/4.0/legalcode"
   ]
  }
 ],
 "metadata": {
  "kernelspec": {
   "display_name": "Python 3",
   "language": "python",
   "name": "python3"
  },
  "language_info": {
   "codemirror_mode": {
    "name": "ipython",
    "version": 3
   },
   "file_extension": ".py",
   "mimetype": "text/x-python",
   "name": "python",
   "nbconvert_exporter": "python",
   "pygments_lexer": "ipython3",
   "version": "3.7.6"
  }
 },
 "nbformat": 4,
 "nbformat_minor": 1
}
